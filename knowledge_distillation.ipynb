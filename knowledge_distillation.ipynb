{
 "cells": [
  {
   "cell_type": "code",
   "execution_count": 1,
   "metadata": {},
   "outputs": [],
   "source": [
    "import torch\n",
    "import os\n",
    "import random\n",
    "from models import *\n",
    "from torch.optim import Adam\n",
    "from dataformatter import *\n",
    "import torch.optim as optim\n",
    "from vanilla_kd import VanillaKD\n",
    "import copy"
   ]
  },
  {
   "cell_type": "markdown",
   "metadata": {},
   "source": [
    "### Utilities"
   ]
  },
  {
   "cell_type": "code",
   "execution_count": 2,
   "metadata": {},
   "outputs": [],
   "source": [
    "def set_random_seed(seed):\n",
    "\t# Esp important for ensuring deterministic behavior with CNNs\n",
    "\ttorch.backends.cudnn.deterministic = True\n",
    "\tnp.random.seed(seed)\n",
    "\trandom.seed(seed)\n",
    "\ttorch.manual_seed(seed)\n",
    "\tcuda_available = torch.cuda.is_available()\n",
    "\tif cuda_available:\n",
    "\t\ttorch.cuda.manual_seed_all(seed)\n",
    "\treturn cuda_available"
   ]
  },
  {
   "cell_type": "markdown",
   "metadata": {},
   "source": [
    "#### Hyper Params"
   ]
  },
  {
   "cell_type": "code",
   "execution_count": 3,
   "metadata": {},
   "outputs": [],
   "source": [
    "N_EPOCHS = 5\n",
    "DATA_PATH = '../hawkeye_trace_belady_graph.csv' # This is the CSV FILE WE ARE TRYING TO ANALYZE\n",
    "TR_DESC = 'GRAPH'\n",
    "EVAL_DATA_PATH = '../hawkeye_trace_belady_xalancbmk.csv' # This is the CSV FILE WE ARE TRYING TO ANALYZE\n",
    "EVAL_DESC = 'XALANBMK'\n",
    "\n",
    "SAVE_FLDR = 'results'\n",
    "N_EPOCHS = 5\n",
    "MAX_GRAD_NORM = 0.1\n",
    "SET_WISE = True\n",
    "RANDOM_SEED = 140982301"
   ]
  },
  {
   "cell_type": "markdown",
   "metadata": {},
   "source": [
    "#### Set location of the teacher model"
   ]
  },
  {
   "cell_type": "code",
   "execution_count": 4,
   "metadata": {},
   "outputs": [],
   "source": [
    "teacher_model_file=\"GRAPH-TRANSFORMER_BSZ.64_LR.0.0001_saved_model.pth\""
   ]
  },
  {
   "cell_type": "code",
   "execution_count": 5,
   "metadata": {},
   "outputs": [
    {
     "name": "stdout",
     "output_type": "stream",
     "text": [
      "TRANSFORMER 64 0.0001\n"
     ]
    }
   ],
   "source": [
    "MODEL_TYPE=teacher_model_file.split(\"_\")[0].split('-')[1]\n",
    "MODEL_DESC='{} MODEL'.format(MODEL_TYPE)\n",
    "BATCH_SZ=int(teacher_model_file.split(\"_\")[1].split('.')[1])\n",
    "LR=float(teacher_model_file.split(\"_\")[2][3:])\n",
    "print(MODEL_TYPE,BATCH_SZ,LR)"
   ]
  },
  {
   "cell_type": "markdown",
   "metadata": {},
   "source": [
    "#### Setting up the teacher"
   ]
  },
  {
   "cell_type": "code",
   "execution_count": 6,
   "metadata": {},
   "outputs": [],
   "source": [
    "set_random_seed(RANDOM_SEED)\n",
    "teacher_model = get_model(MODEL_TYPE)"
   ]
  },
  {
   "cell_type": "code",
   "execution_count": 7,
   "metadata": {},
   "outputs": [],
   "source": [
    "chosen_columns = teacher_model.get_data_columns()\n",
    "train_dataset = csv_to_data(DATA_PATH, chosen_columns)\n",
    "eval_dataset = csv_to_data(EVAL_DATA_PATH, chosen_columns)\n",
    "\n",
    "average_pred = np.mean(train_dataset[:, -1])\n",
    "if torch.cuda.is_available():\n",
    "    teacher_model.cuda()\n",
    "\n",
    "# teacher_model.load_state_dict(torch.load('../teacher_FC.model'))"
   ]
  },
  {
   "cell_type": "code",
   "execution_count": 8,
   "metadata": {},
   "outputs": [],
   "source": [
    "if SET_WISE:\n",
    "    train_setwise_dataset = group_by_set(train_dataset)\n",
    "    eval_setwise_dataset = group_by_set(eval_dataset)\n",
    "    all_tr_keys = list(train_setwise_dataset.keys())\n",
    "    val_keys = np.random.choice(all_tr_keys, size=int(0.1 * len(all_tr_keys)))\n",
    "    tr_keys = set(all_tr_keys) - set(val_keys)\n",
    "\n",
    "    vals = [len(x) for x in list(train_setwise_dataset.values())]\n",
    "    max_key = all_tr_keys[np.argmax(vals)]\n",
    "    teacher_model.use_cuda=torch.cuda.is_available()\n",
    "    teacher_model.prep_for_data(train_setwise_dataset[max_key], temp_order=True)\n",
    "    \n",
    "    for set_id, this_dataset in train_setwise_dataset.items():\n",
    "        teacher_model.remap_embedders(this_dataset, set_id)\n",
    "\n",
    "#     tr_val_setwise_dataset = {k: train_setwise_dataset[k] for k in val_keys}\n",
    "#     train_setwise_dataset = {k: train_setwise_dataset[k] for k in tr_keys}\n",
    "else:\n",
    "    teacher_model.prep_for_data(train_dataset, temp_order=True)"
   ]
  },
  {
   "cell_type": "code",
   "execution_count": 9,
   "metadata": {},
   "outputs": [
    {
     "data": {
      "text/plain": [
       "<All keys matched successfully>"
      ]
     },
     "execution_count": 9,
     "metadata": {},
     "output_type": "execute_result"
    }
   ],
   "source": [
    "teacher_model.load_state_dict(torch.load('./pytorch_c++/'+teacher_model_file))"
   ]
  },
  {
   "cell_type": "code",
   "execution_count": 10,
   "metadata": {},
   "outputs": [],
   "source": [
    "student_model_initialization='SFC'"
   ]
  },
  {
   "cell_type": "code",
   "execution_count": 11,
   "metadata": {},
   "outputs": [
    {
     "name": "stdout",
     "output_type": "stream",
     "text": [
      "TC True\n",
      "MLP(\n",
      "  (loss_fn): CrossEntropyLoss()\n",
      "  (model): Sequential(\n",
      "    (0): Dropout(p=0.2, inplace=False)\n",
      "    (1): Linear(in_features=128, out_features=2, bias=True)\n",
      "  )\n",
      "  (pc_embedding): Embedding(500, 64)\n",
      "  (set_occ_embedding): Embedding(500, 64)\n",
      ")\n"
     ]
    }
   ],
   "source": [
    "if not os.path.exists(SAVE_FLDR):\n",
    "    os.makedirs(SAVE_FLDR)\n",
    "\n",
    "student_model = get_model(student_model_initialization)\n",
    "\n",
    "# student_model=copy.deepcopy(teacher_model)\n",
    "# chosen_columns = student_model.get_data_columns()\n",
    "\n",
    "\n",
    "vals = [len(x) for x in list(train_setwise_dataset.values())]\n",
    "max_key = all_tr_keys[np.argmax(vals)]\n",
    "# student_model.use_cuda=True\n",
    "print(\"TC\",torch.cuda.is_available())\n",
    "student_model.use_cuda = torch.cuda.is_available()\n",
    "\n",
    "# student_model.prep_for_data(train_setwise_dataset[max_key], temp_order=True)\n",
    "\n",
    "student_model.pc_emb_map=copy.deepcopy(teacher_model.pc_emb_map) # clone\n",
    "student_model.set_occ_emb_map= copy.deepcopy(teacher_model.set_occ_emb_map) # clone\n",
    "student_model.setid_to_map_map=copy.deepcopy(teacher_model.setid_to_map_map) #clone\n",
    "\n",
    "student_model.pc_embedding=nn.Embedding.from_pretrained(teacher_model.pc_embedding.weight.clone().detach(),freeze=True) \n",
    "student_model.set_occ_embedding=nn.Embedding.from_pretrained(teacher_model.set_occ_embedding.weight.clone().detach(),freeze=True)# clone and detach\n",
    "\n",
    "# if(student_model_initialization==\"ST\"):\n",
    "    \n",
    "for set_id, this_dataset in train_setwise_dataset.items():\n",
    "    student_model.remap_embedders(this_dataset, set_id)\n",
    "\n",
    "if torch.cuda.is_available():\n",
    "    student_model.cuda()\n",
    "\n",
    "print(student_model)"
   ]
  },
  {
   "cell_type": "code",
   "execution_count": 12,
   "metadata": {},
   "outputs": [],
   "source": [
    "student_optimizer = Adam(student_model.parameters(), lr=1e-4)\n",
    "teacher_optimizer = Adam(teacher_model.parameters(), lr=LR)"
   ]
  },
  {
   "cell_type": "code",
   "execution_count": 13,
   "metadata": {},
   "outputs": [],
   "source": [
    "distiller = VanillaKD(teacher_model, student_model,teacher_optimizer, student_optimizer,\n",
    "                      train_setwise_dataset,BATCH_SZ,False,student_type=student_model_initialization,\n",
    "                      distil_weight=0.5,temp=20.0)"
   ]
  },
  {
   "cell_type": "code",
   "execution_count": 14,
   "metadata": {},
   "outputs": [
    {
     "name": "stdout",
     "output_type": "stream",
     "text": [
      "Training Student...\n",
      "Epoch: 0 | Student Average Accuracy:0.8262157119460981 Student Median Accuracy:0.9399999976158142 |Distillation Loss: 1.7535388469696045\n",
      "Epoch: 0 | Teacher Average Accuracy:0.9430225392364279 Teacher Median Accuracy:1.0 \n",
      "Epoch: 1 | Student Average Accuracy:0.8674832308423148 Student Median Accuracy:0.9399999976158142 |Distillation Loss: 1.3704086542129517\n",
      "Epoch: 1 | Teacher Average Accuracy:0.9430225392364279 Teacher Median Accuracy:1.0 \n",
      "Epoch: 2 | Student Average Accuracy:0.9006459364471168 Student Median Accuracy:0.9799999594688416 |Distillation Loss: 0.9420501589775085\n",
      "Epoch: 2 | Teacher Average Accuracy:0.9430225392364279 Teacher Median Accuracy:1.0 \n",
      "Epoch: 3 | Student Average Accuracy:0.9179646448163562 Student Median Accuracy:1.0 |Distillation Loss: 1.100561261177063\n",
      "Epoch: 3 | Teacher Average Accuracy:0.9430225392364279 Teacher Median Accuracy:1.0 \n",
      "Epoch: 4 | Student Average Accuracy:0.9267397828395595 Student Median Accuracy:1.0 |Distillation Loss: 0.8878437280654907\n",
      "Epoch: 4 | Teacher Average Accuracy:0.9430225392364279 Teacher Median Accuracy:1.0 \n",
      "Epoch: 5 | Student Average Accuracy:0.9330164437647057 Student Median Accuracy:1.0 |Distillation Loss: 0.9550408720970154\n",
      "Epoch: 5 | Teacher Average Accuracy:0.9430225392364279 Teacher Median Accuracy:1.0 \n",
      "Epoch: 6 | Student Average Accuracy:0.9370505700091049 Student Median Accuracy:1.0 |Distillation Loss: 0.884880781173706\n",
      "Epoch: 6 | Teacher Average Accuracy:0.9430225392364279 Teacher Median Accuracy:1.0 \n",
      "Epoch: 7 | Student Average Accuracy:0.9383790282343016 Student Median Accuracy:1.0 |Distillation Loss: 0.6355677843093872\n",
      "Epoch: 7 | Teacher Average Accuracy:0.9430225392364279 Teacher Median Accuracy:1.0 \n",
      "Epoch: 8 | Student Average Accuracy:0.9388787238282593 Student Median Accuracy:1.0 |Distillation Loss: 0.6379373669624329\n",
      "Epoch: 8 | Teacher Average Accuracy:0.9430225392364279 Teacher Median Accuracy:1.0 \n",
      "Epoch: 9 | Student Average Accuracy:0.9393662312712195 Student Median Accuracy:1.0 |Distillation Loss: 0.8146716356277466\n",
      "Epoch: 9 | Teacher Average Accuracy:0.9430225392364279 Teacher Median Accuracy:1.0 \n"
     ]
    }
   ],
   "source": [
    "distiller.train_student(10)"
   ]
  },
  {
   "cell_type": "code",
   "execution_count": 22,
   "metadata": {},
   "outputs": [],
   "source": [
    "SAVE_FLDR=\"results\"\n",
    "w_wo='with_embeddings_'\n",
    "torch.save(distiller.student_model.state_dict(), '{}/{}_saved_model.pth'.format(SAVE_FLDR,'STUDENT_'+w_wo+student_model_initialization))"
   ]
  },
  {
   "cell_type": "code",
   "execution_count": 15,
   "metadata": {},
   "outputs": [],
   "source": [
    "def model_size(model):\n",
    "    sz=0\n",
    "    for param in model.parameters():\n",
    "        sz+=param.numel()\n",
    "    return sz"
   ]
  },
  {
   "cell_type": "code",
   "execution_count": 16,
   "metadata": {},
   "outputs": [],
   "source": [
    "student_size=model_size(distiller.student_model)"
   ]
  },
  {
   "cell_type": "code",
   "execution_count": 17,
   "metadata": {},
   "outputs": [],
   "source": [
    "teacher_size=model_size(distiller.teacher_model)"
   ]
  },
  {
   "cell_type": "code",
   "execution_count": 18,
   "metadata": {},
   "outputs": [
    {
     "data": {
      "text/plain": [
       "64258"
      ]
     },
     "execution_count": 18,
     "metadata": {},
     "output_type": "execute_result"
    }
   ],
   "source": [
    "student_size"
   ]
  },
  {
   "cell_type": "code",
   "execution_count": 19,
   "metadata": {},
   "outputs": [
    {
     "data": {
      "text/plain": [
       "461954"
      ]
     },
     "execution_count": 19,
     "metadata": {},
     "output_type": "execute_result"
    }
   ],
   "source": [
    "teacher_size"
   ]
  },
  {
   "cell_type": "code",
   "execution_count": 21,
   "metadata": {},
   "outputs": [
    {
     "data": {
      "text/plain": [
       "7.189050390612842"
      ]
     },
     "execution_count": 21,
     "metadata": {},
     "output_type": "execute_result"
    }
   ],
   "source": [
    "teacher_size/student_size"
   ]
  },
  {
   "cell_type": "code",
   "execution_count": null,
   "metadata": {},
   "outputs": [],
   "source": []
  }
 ],
 "metadata": {
  "kernelspec": {
   "display_name": "pytorch",
   "language": "python",
   "name": "pytorch"
  },
  "language_info": {
   "codemirror_mode": {
    "name": "ipython",
    "version": 3
   },
   "file_extension": ".py",
   "mimetype": "text/x-python",
   "name": "python",
   "nbconvert_exporter": "python",
   "pygments_lexer": "ipython3",
   "version": "3.7.6"
  }
 },
 "nbformat": 4,
 "nbformat_minor": 4
}
