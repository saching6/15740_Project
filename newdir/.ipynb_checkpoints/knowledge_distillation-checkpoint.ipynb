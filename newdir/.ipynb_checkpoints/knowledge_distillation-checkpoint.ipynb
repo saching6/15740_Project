{
 "cells": [
  {
   "cell_type": "code",
   "execution_count": 1,
   "metadata": {},
   "outputs": [],
   "source": [
    "import torch\n",
    "import os\n",
    "import random\n",
    "from models import *\n",
    "from torch.optim import Adam\n",
    "from dataformatter import * \n",
    "import torch.optim as optim\n",
    "from vanilla_kd import VanillaKD\n",
    "import copy"
   ]
  },
  {
   "cell_type": "markdown",
   "metadata": {},
   "source": [
    "### Utilities"
   ]
  },
  {
   "cell_type": "code",
   "execution_count": 2,
   "metadata": {},
   "outputs": [],
   "source": [
    "def set_random_seed(seed):\n",
    "\t# Esp important for ensuring deterministic behavior with CNNs\n",
    "\ttorch.backends.cudnn.deterministic = True\n",
    "\tnp.random.seed(seed)\n",
    "\trandom.seed(seed)\n",
    "\ttorch.manual_seed(seed)\n",
    "\tcuda_available = torch.cuda.is_available()\n",
    "\tif cuda_available:\n",
    "\t\ttorch.cuda.manual_seed_all(seed)\n",
    "\treturn cuda_available"
   ]
  },
  {
   "cell_type": "markdown",
   "metadata": {},
   "source": [
    "#### Hyper Params"
   ]
  },
  {
   "cell_type": "code",
   "execution_count": 3,
   "metadata": {},
   "outputs": [],
   "source": [
    "N_EPOCHS = 5\n",
    "DATA_PATH = '../lru_trace_belady_bzip.csv' # This is the CSV FILE WE ARE TRYING TO ANALYZE\n",
    "TR_DESC = 'GRAPH'\n",
    "EVAL_DATA_PATH = '../lru_trace_belady_bzip.csv' # This is the CSV FILE WE ARE TRYING TO ANALYZE\n",
    "EVAL_DESC = 'GRAPH'\n",
    "\n",
    "SAVE_FLDR = 'results'\n",
    "N_EPOCHS = 5\n",
    "MAX_GRAD_NORM = 0.1\n",
    "SET_WISE = True\n",
    "RANDOM_SEED = 140982301\n",
    "join=False\n",
    "student_model_initialization=\"SFC\""
   ]
  },
  {
   "cell_type": "markdown",
   "metadata": {},
   "source": [
    "#### Set location of the teacher model"
   ]
  },
  {
   "cell_type": "code",
   "execution_count": 4,
   "metadata": {},
   "outputs": [],
   "source": [
    "teacher_model_file=\"HWKY_ONLY_BZIP-TRANSFORMER_BSZ.32_LR.0.0001_saved_model.pth\"\n",
    "student_model_file=\"STUDENT_SFC_HWKY_ONLY_BZIP-TRANSFORMER_BSZ.32_LR.0.0001_saved_model.pth\"\n",
    "if 'JOINT' in teacher_model_file:\n",
    "    join=True\n",
    "else:\n",
    "    join=False"
   ]
  },
  {
   "cell_type": "code",
   "execution_count": 5,
   "metadata": {},
   "outputs": [
    {
     "data": {
      "text/plain": [
       "False"
      ]
     },
     "execution_count": 5,
     "metadata": {},
     "output_type": "execute_result"
    }
   ],
   "source": [
    "join"
   ]
  },
  {
   "cell_type": "code",
   "execution_count": 6,
   "metadata": {},
   "outputs": [
    {
     "name": "stdout",
     "output_type": "stream",
     "text": [
      "TRANSFORMER TRANSFORMER MODEL 32 0.32\n"
     ]
    }
   ],
   "source": [
    "data_type,remaining=teacher_model_file.split('-')\n",
    "MODEL_TYPE=''.join(remaining.split(\"_\")[0])\n",
    "MODEL_DESC='{} MODEL'.format(MODEL_TYPE)\n",
    "BATCH_SZ=int(remaining.split(\"_\")[1][4:])\n",
    "LR=float(teacher_model_file.split(\"_\")[3][3:])\n",
    "print(MODEL_TYPE,MODEL_DESC,BATCH_SZ,LR)"
   ]
  },
  {
   "cell_type": "markdown",
   "metadata": {},
   "source": [
    "#### Setting up the teacher"
   ]
  },
  {
   "cell_type": "code",
   "execution_count": 7,
   "metadata": {},
   "outputs": [],
   "source": [
    "set_random_seed(RANDOM_SEED)\n",
    "teacher_model = get_model(MODEL_TYPE)"
   ]
  },
  {
   "cell_type": "code",
   "execution_count": 8,
   "metadata": {},
   "outputs": [],
   "source": [
    "chosen_columns = teacher_model.get_data_columns()\n",
    "chosen_columns.append('Set')\n",
    "\n",
    "train_dataset = csv_to_data(DATA_PATH, chosen_columns)\n",
    "eval_dataset = csv_to_data(EVAL_DATA_PATH, chosen_columns)\n",
    "\n",
    "average_pred = np.mean(train_dataset[:, -1])\n",
    "if torch.cuda.is_available():\n",
    "    teacher_model.cuda()\n",
    "teacher_model.use_cuda=torch.cuda.is_available()\n",
    "\n",
    "\n",
    "# teacher_model.load_state_dict(torch.load('../teacher_FC.model'))"
   ]
  },
  {
   "cell_type": "code",
   "execution_count": 9,
   "metadata": {},
   "outputs": [],
   "source": [
    "# Always SetWise\n",
    "train_setwise_dataset = group_by_set(train_dataset, set_idx=3)\n",
    "eval_setwise_dataset = group_by_set(eval_dataset, set_idx=3)\n",
    "\n",
    "if join:\n",
    "    MAX_TR_KEY = max([int(x) for x in train_setwise_dataset.keys()]) + 1\n",
    "    new_eval_set = {}\n",
    "    for k, v in eval_setwise_dataset.items():\n",
    "        new_id = MAX_TR_KEY + int(k)\n",
    "        train_setwise_dataset[new_id] = v\n",
    "        new_eval_set[new_id] = v\n",
    "#     print('Total keys After : ', len(train_setwise_dataset.keys()))\n",
    "    eval_setwise_dataset = new_eval_set\n",
    "    for k, v in train_setwise_dataset.items():\n",
    "        if v.shape[0] < 2:\n",
    "            print(k)\n",
    "res = [x.shape[0] for _, x in train_setwise_dataset.items()]\n",
    "# print(min(res), np.mean(res), np.median(res), max(res))\n",
    "all_tr_keys = list(train_setwise_dataset.keys())\n",
    "val_keys = np.random.choice(all_tr_keys, size=int(0.2 * len(all_tr_keys)))\n",
    "tr_keys = set(all_tr_keys) - set(val_keys)\n",
    "\n",
    "vals = [len(x) for x in list(train_setwise_dataset.values())]\n",
    "max_key = all_tr_keys[np.argmax(vals)]\n",
    "\n",
    "teacher_model.prep_for_data(train_setwise_dataset[max_key], temp_order=True)\n",
    "\n",
    "for set_id, this_dataset in train_setwise_dataset.items():\n",
    "    teacher_model.remap_embedders(this_dataset, set_id)\n",
    "\n",
    "tr_val_setwise_dataset = {k: train_setwise_dataset[k] for k in val_keys}\n",
    "train_setwise_dataset = {k: train_setwise_dataset[k] for k in tr_keys}\n"
   ]
  },
  {
   "cell_type": "code",
   "execution_count": 10,
   "metadata": {},
   "outputs": [
    {
     "data": {
      "text/plain": [
       "<All keys matched successfully>"
      ]
     },
     "execution_count": 10,
     "metadata": {},
     "output_type": "execute_result"
    }
   ],
   "source": [
    "teacher_model.load_state_dict(torch.load('../'+teacher_model_file))"
   ]
  },
  {
   "cell_type": "code",
   "execution_count": 11,
   "metadata": {},
   "outputs": [],
   "source": [
    "if not os.path.exists(SAVE_FLDR):\n",
    "    os.makedirs(SAVE_FLDR)\n",
    "\n",
    "student_model = get_model(student_model_initialization)\n",
    "if torch.cuda.is_available():\n",
    "    student_model.cuda()\n",
    "student_model.use_cuda = torch.cuda.is_available()\n",
    "\n",
    "# chosen_columns = student_model.get_data_columns()\n",
    "\n",
    "all_tr_keys = list(train_setwise_dataset.keys())\n",
    "vals = [len(x) for x in list(train_setwise_dataset.values())]\n",
    "max_key = all_tr_keys[np.argmax(vals)]\n",
    "\n",
    "student_model.prep_for_data(train_setwise_dataset[max_key], temp_order=True)\n",
    "\n",
    "student_model.pc_emb_map=copy.deepcopy(teacher_model.pc_emb_map) # clone\n",
    "student_model.set_occ_emb_map= copy.deepcopy(teacher_model.set_occ_emb_map) # clone\n",
    "student_model.setid_to_map_map=copy.deepcopy(teacher_model.setid_to_map_map) #clone\n",
    "\n",
    "student_model.pc_embedding=nn.Embedding.from_pretrained(teacher_model.pc_embedding.weight.clone().detach(),freeze=True) \n",
    "student_model.set_occ_embedding=nn.Embedding.from_pretrained(teacher_model.set_occ_embedding.weight.clone().detach(),freeze=True)# clone and detach\n",
    "\n",
    "for set_id, this_dataset in train_setwise_dataset.items():\n",
    "    student_model.remap_embedders(this_dataset, set_id)\n",
    "\n",
    "\n",
    "\n",
    "# print(student_model)"
   ]
  },
  {
   "cell_type": "code",
   "execution_count": 12,
   "metadata": {},
   "outputs": [
    {
     "data": {
      "text/plain": [
       "<All keys matched successfully>"
      ]
     },
     "execution_count": 12,
     "metadata": {},
     "output_type": "execute_result"
    }
   ],
   "source": [
    "student_model.load_state_dict(torch.load('../student_models/'+student_model_file))"
   ]
  },
  {
   "cell_type": "code",
   "execution_count": 13,
   "metadata": {},
   "outputs": [],
   "source": [
    "student_optimizer = Adam(student_model.parameters(), lr=1e-4)\n",
    "teacher_optimizer = Adam(teacher_model.parameters(), lr=LR)"
   ]
  },
  {
   "cell_type": "code",
   "execution_count": 14,
   "metadata": {},
   "outputs": [],
   "source": [
    "distiller = VanillaKD(teacher_model, student_model,teacher_optimizer, student_optimizer,\n",
    "                      train_setwise_dataset,tr_val_setwise_dataset,batch_size=BATCH_SZ,shuffle=False,student_type=student_model_initialization,\n",
    "                      distil_weight=0.5,temp=20.0)"
   ]
  },
  {
   "cell_type": "code",
   "execution_count": 15,
   "metadata": {},
   "outputs": [
    {
     "name": "stdout",
     "output_type": "stream",
     "text": [
      "Evaluating Student...\n",
      "Student Average Accuracy:0.8500331338762578 Student Median Accuracy:0.8999999761581421 |Student Loss:2.392160177230835\n"
     ]
    }
   ],
   "source": [
    "distiller.evaluate_student()"
   ]
  },
  {
   "cell_type": "code",
   "execution_count": 16,
   "metadata": {},
   "outputs": [
    {
     "name": "stdout",
     "output_type": "stream",
     "text": [
      "Evaluating Teacher...\n",
      "Teacher Average Accuracy:0.9861546872399789 Teacher Median Accuracy:1.0 |Teacher Loss:5.116590182296932e-05\n"
     ]
    }
   ],
   "source": [
    "distiller.evaluate_teacher()"
   ]
  },
  {
   "cell_type": "code",
   "execution_count": 181,
   "metadata": {},
   "outputs": [],
   "source": [
    "SAVE_FLDR=\"../student_models\"\n",
    "torch.save(distiller.student_model.state_dict(), \n",
    "           os.path.join(SAVE_FLDR,'STUDENT_'+student_model_initialization+'_'+teacher_model_file))"
   ]
  },
  {
   "cell_type": "code",
   "execution_count": null,
   "metadata": {},
   "outputs": [],
   "source": []
  }
 ],
 "metadata": {
  "kernelspec": {
   "display_name": "pytorch",
   "language": "python",
   "name": "pytorch"
  },
  "language_info": {
   "codemirror_mode": {
    "name": "ipython",
    "version": 3
   },
   "file_extension": ".py",
   "mimetype": "text/x-python",
   "name": "python",
   "nbconvert_exporter": "python",
   "pygments_lexer": "ipython3",
   "version": "3.7.6"
  }
 },
 "nbformat": 4,
 "nbformat_minor": 4
}
