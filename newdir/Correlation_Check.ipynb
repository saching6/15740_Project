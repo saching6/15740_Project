{
 "cells": [
  {
   "cell_type": "code",
   "execution_count": 1,
   "metadata": {
    "id": "OEBUw-8QV4Fa"
   },
   "outputs": [],
   "source": [
    "import scipy.stats\n",
    "import pandas as pd\n",
    "import matplotlib.pyplot as plt\n",
    "from collections import Counter\n",
    "import numpy as np\n",
    "%matplotlib inline"
   ]
  },
  {
   "cell_type": "code",
   "execution_count": 107,
   "metadata": {
    "id": "rXPe_U_TWABH"
   },
   "outputs": [],
   "source": [
    "# df2=pd.read_csv('hawkeye_trace_16_2048_2.csv')\n",
    "df_hawkeye=pd.read_csv('hawkeye_trace.csv')\n",
    "df_lru=pd.read_csv('lru_trace.csv')\n",
    "df_rand=pd.read_csv('random_trace.csv')"
   ]
  },
  {
   "cell_type": "code",
   "execution_count": 108,
   "metadata": {},
   "outputs": [
    {
     "data": {
      "text/html": [
       "<div>\n",
       "<style scoped>\n",
       "    .dataframe tbody tr th:only-of-type {\n",
       "        vertical-align: middle;\n",
       "    }\n",
       "\n",
       "    .dataframe tbody tr th {\n",
       "        vertical-align: top;\n",
       "    }\n",
       "\n",
       "    .dataframe thead th {\n",
       "        text-align: right;\n",
       "    }\n",
       "</style>\n",
       "<table border=\"1\" class=\"dataframe\">\n",
       "  <thead>\n",
       "    <tr style=\"text-align: right;\">\n",
       "      <th></th>\n",
       "      <th>Set</th>\n",
       "      <th>Way</th>\n",
       "      <th>Victim Address</th>\n",
       "      <th>Program Counter</th>\n",
       "      <th>Hit</th>\n",
       "    </tr>\n",
       "    <tr>\n",
       "      <th>Physical Address</th>\n",
       "      <th></th>\n",
       "      <th></th>\n",
       "      <th></th>\n",
       "      <th></th>\n",
       "      <th></th>\n",
       "    </tr>\n",
       "  </thead>\n",
       "  <tbody>\n",
       "    <tr>\n",
       "      <th>51756064016</th>\n",
       "      <td>884.0</td>\n",
       "      <td>3.000000</td>\n",
       "      <td>9.250831e+13</td>\n",
       "      <td>4199339.0</td>\n",
       "      <td>0.0</td>\n",
       "    </tr>\n",
       "    <tr>\n",
       "      <th>55470813264</th>\n",
       "      <td>1473.0</td>\n",
       "      <td>8.000000</td>\n",
       "      <td>7.950505e+12</td>\n",
       "      <td>4199339.0</td>\n",
       "      <td>0.0</td>\n",
       "    </tr>\n",
       "    <tr>\n",
       "      <th>60600537128</th>\n",
       "      <td>832.0</td>\n",
       "      <td>2.000000</td>\n",
       "      <td>2.529258e+14</td>\n",
       "      <td>4208554.0</td>\n",
       "      <td>0.0</td>\n",
       "    </tr>\n",
       "    <tr>\n",
       "      <th>60600537192</th>\n",
       "      <td>833.0</td>\n",
       "      <td>11.000000</td>\n",
       "      <td>2.025863e+13</td>\n",
       "      <td>4208554.0</td>\n",
       "      <td>0.0</td>\n",
       "    </tr>\n",
       "    <tr>\n",
       "      <th>60600537256</th>\n",
       "      <td>834.0</td>\n",
       "      <td>7.000000</td>\n",
       "      <td>1.787925e+14</td>\n",
       "      <td>4208554.0</td>\n",
       "      <td>0.0</td>\n",
       "    </tr>\n",
       "    <tr>\n",
       "      <th>...</th>\n",
       "      <td>...</td>\n",
       "      <td>...</td>\n",
       "      <td>...</td>\n",
       "      <td>...</td>\n",
       "      <td>...</td>\n",
       "    </tr>\n",
       "    <tr>\n",
       "      <th>281446706838352</th>\n",
       "      <td>2029.0</td>\n",
       "      <td>6.500000</td>\n",
       "      <td>9.480078e+13</td>\n",
       "      <td>4199311.0</td>\n",
       "      <td>0.0</td>\n",
       "    </tr>\n",
       "    <tr>\n",
       "      <th>281447789099920</th>\n",
       "      <td>2030.0</td>\n",
       "      <td>10.666667</td>\n",
       "      <td>1.456206e+14</td>\n",
       "      <td>4199339.0</td>\n",
       "      <td>0.0</td>\n",
       "    </tr>\n",
       "    <tr>\n",
       "      <th>281458050509136</th>\n",
       "      <td>677.0</td>\n",
       "      <td>8.500000</td>\n",
       "      <td>4.215113e+13</td>\n",
       "      <td>4199339.0</td>\n",
       "      <td>0.0</td>\n",
       "    </tr>\n",
       "    <tr>\n",
       "      <th>281470348555984</th>\n",
       "      <td>2011.0</td>\n",
       "      <td>9.333333</td>\n",
       "      <td>1.376758e+14</td>\n",
       "      <td>4199339.0</td>\n",
       "      <td>0.0</td>\n",
       "    </tr>\n",
       "    <tr>\n",
       "      <th>281470348558224</th>\n",
       "      <td>2046.0</td>\n",
       "      <td>6.333333</td>\n",
       "      <td>2.366733e+14</td>\n",
       "      <td>4199339.0</td>\n",
       "      <td>0.0</td>\n",
       "    </tr>\n",
       "  </tbody>\n",
       "</table>\n",
       "<p>333747 rows × 5 columns</p>\n",
       "</div>"
      ],
      "text/plain": [
       "                     Set        Way  Victim Address  Program Counter  Hit\n",
       "Physical Address                                                         \n",
       "51756064016        884.0   3.000000    9.250831e+13        4199339.0  0.0\n",
       "55470813264       1473.0   8.000000    7.950505e+12        4199339.0  0.0\n",
       "60600537128        832.0   2.000000    2.529258e+14        4208554.0  0.0\n",
       "60600537192        833.0  11.000000    2.025863e+13        4208554.0  0.0\n",
       "60600537256        834.0   7.000000    1.787925e+14        4208554.0  0.0\n",
       "...                  ...        ...             ...              ...  ...\n",
       "281446706838352   2029.0   6.500000    9.480078e+13        4199311.0  0.0\n",
       "281447789099920   2030.0  10.666667    1.456206e+14        4199339.0  0.0\n",
       "281458050509136    677.0   8.500000    4.215113e+13        4199339.0  0.0\n",
       "281470348555984   2011.0   9.333333    1.376758e+14        4199339.0  0.0\n",
       "281470348558224   2046.0   6.333333    2.366733e+14        4199339.0  0.0\n",
       "\n",
       "[333747 rows x 5 columns]"
      ]
     },
     "execution_count": 108,
     "metadata": {},
     "output_type": "execute_result"
    }
   ],
   "source": [
    "df_hawkeye.groupby(\"Physical Address\").mean()"
   ]
  },
  {
   "cell_type": "code",
   "execution_count": 109,
   "metadata": {},
   "outputs": [
    {
     "data": {
      "text/html": [
       "<div>\n",
       "<style scoped>\n",
       "    .dataframe tbody tr th:only-of-type {\n",
       "        vertical-align: middle;\n",
       "    }\n",
       "\n",
       "    .dataframe tbody tr th {\n",
       "        vertical-align: top;\n",
       "    }\n",
       "\n",
       "    .dataframe thead th {\n",
       "        text-align: right;\n",
       "    }\n",
       "</style>\n",
       "<table border=\"1\" class=\"dataframe\">\n",
       "  <thead>\n",
       "    <tr style=\"text-align: right;\">\n",
       "      <th></th>\n",
       "      <th>Set</th>\n",
       "      <th>Way</th>\n",
       "      <th>Physical Address</th>\n",
       "      <th>Victim Address</th>\n",
       "      <th>Hit</th>\n",
       "    </tr>\n",
       "    <tr>\n",
       "      <th>Program Counter</th>\n",
       "      <th></th>\n",
       "      <th></th>\n",
       "      <th></th>\n",
       "      <th></th>\n",
       "      <th></th>\n",
       "    </tr>\n",
       "  </thead>\n",
       "  <tbody>\n",
       "    <tr>\n",
       "      <th>0</th>\n",
       "      <td>999.395909</td>\n",
       "      <td>7.205165</td>\n",
       "      <td>1.397378e+14</td>\n",
       "      <td>6.443072e+13</td>\n",
       "      <td>0.535228</td>\n",
       "    </tr>\n",
       "    <tr>\n",
       "      <th>4199248</th>\n",
       "      <td>397.000000</td>\n",
       "      <td>5.000000</td>\n",
       "      <td>2.356458e+14</td>\n",
       "      <td>2.651190e+14</td>\n",
       "      <td>0.000000</td>\n",
       "    </tr>\n",
       "    <tr>\n",
       "      <th>4199255</th>\n",
       "      <td>1600.000000</td>\n",
       "      <td>7.750000</td>\n",
       "      <td>1.449650e+14</td>\n",
       "      <td>5.392643e+13</td>\n",
       "      <td>0.250000</td>\n",
       "    </tr>\n",
       "    <tr>\n",
       "      <th>4199296</th>\n",
       "      <td>1031.618980</td>\n",
       "      <td>7.048160</td>\n",
       "      <td>1.412119e+14</td>\n",
       "      <td>1.332998e+14</td>\n",
       "      <td>0.028858</td>\n",
       "    </tr>\n",
       "    <tr>\n",
       "      <th>4199300</th>\n",
       "      <td>1032.463268</td>\n",
       "      <td>7.078859</td>\n",
       "      <td>1.417814e+14</td>\n",
       "      <td>1.217278e+14</td>\n",
       "      <td>0.108989</td>\n",
       "    </tr>\n",
       "    <tr>\n",
       "      <th>...</th>\n",
       "      <td>...</td>\n",
       "      <td>...</td>\n",
       "      <td>...</td>\n",
       "      <td>...</td>\n",
       "      <td>...</td>\n",
       "    </tr>\n",
       "    <tr>\n",
       "      <th>4208717</th>\n",
       "      <td>1422.666667</td>\n",
       "      <td>8.333333</td>\n",
       "      <td>1.981912e+14</td>\n",
       "      <td>0.000000e+00</td>\n",
       "      <td>1.000000</td>\n",
       "    </tr>\n",
       "    <tr>\n",
       "      <th>4208724</th>\n",
       "      <td>26.000000</td>\n",
       "      <td>3.023256</td>\n",
       "      <td>2.289556e+13</td>\n",
       "      <td>5.665117e+12</td>\n",
       "      <td>0.930233</td>\n",
       "    </tr>\n",
       "    <tr>\n",
       "      <th>4208734</th>\n",
       "      <td>24.000000</td>\n",
       "      <td>4.000000</td>\n",
       "      <td>2.289556e+13</td>\n",
       "      <td>0.000000e+00</td>\n",
       "      <td>0.975000</td>\n",
       "    </tr>\n",
       "    <tr>\n",
       "      <th>4208737</th>\n",
       "      <td>596.902439</td>\n",
       "      <td>12.024390</td>\n",
       "      <td>2.720389e+14</td>\n",
       "      <td>0.000000e+00</td>\n",
       "      <td>0.975610</td>\n",
       "    </tr>\n",
       "    <tr>\n",
       "      <th>4208744</th>\n",
       "      <td>1251.000000</td>\n",
       "      <td>4.189189</td>\n",
       "      <td>2.646899e+14</td>\n",
       "      <td>0.000000e+00</td>\n",
       "      <td>0.972973</td>\n",
       "    </tr>\n",
       "  </tbody>\n",
       "</table>\n",
       "<p>138 rows × 5 columns</p>\n",
       "</div>"
      ],
      "text/plain": [
       "                         Set        Way  Physical Address  Victim Address  \\\n",
       "Program Counter                                                             \n",
       "0                 999.395909   7.205165      1.397378e+14    6.443072e+13   \n",
       "4199248           397.000000   5.000000      2.356458e+14    2.651190e+14   \n",
       "4199255          1600.000000   7.750000      1.449650e+14    5.392643e+13   \n",
       "4199296          1031.618980   7.048160      1.412119e+14    1.332998e+14   \n",
       "4199300          1032.463268   7.078859      1.417814e+14    1.217278e+14   \n",
       "...                      ...        ...               ...             ...   \n",
       "4208717          1422.666667   8.333333      1.981912e+14    0.000000e+00   \n",
       "4208724            26.000000   3.023256      2.289556e+13    5.665117e+12   \n",
       "4208734            24.000000   4.000000      2.289556e+13    0.000000e+00   \n",
       "4208737           596.902439  12.024390      2.720389e+14    0.000000e+00   \n",
       "4208744          1251.000000   4.189189      2.646899e+14    0.000000e+00   \n",
       "\n",
       "                      Hit  \n",
       "Program Counter            \n",
       "0                0.535228  \n",
       "4199248          0.000000  \n",
       "4199255          0.250000  \n",
       "4199296          0.028858  \n",
       "4199300          0.108989  \n",
       "...                   ...  \n",
       "4208717          1.000000  \n",
       "4208724          0.930233  \n",
       "4208734          0.975000  \n",
       "4208737          0.975610  \n",
       "4208744          0.972973  \n",
       "\n",
       "[138 rows x 5 columns]"
      ]
     },
     "execution_count": 109,
     "metadata": {},
     "output_type": "execute_result"
    }
   ],
   "source": [
    "df_hawkeye.groupby(\"Program Counter\").mean()"
   ]
  },
  {
   "cell_type": "code",
   "execution_count": 110,
   "metadata": {
    "id": "4MNyIfDPZsFy"
   },
   "outputs": [],
   "source": [
    "def get_hitrates(df):\n",
    "    df=df[ ( df['Program Counter'] !=0 ) \n",
    "         ]\n",
    "    df_pc=df.groupby('Program Counter').mean()\n",
    "    df_addr=df.groupby('Physical Address').mean()\n",
    "    \n",
    "    addr=list(df_addr.index)\n",
    "    pc=list(df_pc.index)\n",
    "    \n",
    "    hit_pc=df_pc['Hit']\n",
    "    hit_addr=df_addr['Hit']\n",
    "    \n",
    "    addr_counter=Counter(df['Physical Address'])\n",
    "    pc_counter=Counter(df['Program Counter'])\n",
    "    \n",
    "    freq_addr=[]\n",
    "    freq_pc=[]\n",
    "\n",
    "    for add in addr:\n",
    "        freq_addr+=[addr_counter[add]]\n",
    "    for p in pc:\n",
    "        freq_pc+=[pc_counter[p]]\n",
    "  \n",
    "    return addr,pc,hit_addr,hit_pc,freq_addr,freq_pc"
   ]
  },
  {
   "cell_type": "code",
   "execution_count": null,
   "metadata": {},
   "outputs": [],
   "source": []
  },
  {
   "cell_type": "code",
   "execution_count": 111,
   "metadata": {
    "id": "TVG5GMB8PthW"
   },
   "outputs": [],
   "source": [
    "_,_,hit_addr_hawkeye,hit_pc_hawkeye,freq_addr_hawkeye,freq_pc_hawkeye=get_hitrates(df_hawkeye)\n",
    "_,_,hit_addr_lru,hit_pc_lru,freq_addr_lru,freq_pc_lru=get_hitrates(df_lru)\n",
    "_,_,hit_addr_rand,hit_pc_rand,freq_addr_rand,freq_pc_rand=get_hitrates(df_rand)"
   ]
  },
  {
   "cell_type": "code",
   "execution_count": 112,
   "metadata": {},
   "outputs": [
    {
     "data": {
      "text/plain": [
       "0.0603379093479809"
      ]
     },
     "execution_count": 112,
     "metadata": {},
     "output_type": "execute_result"
    }
   ],
   "source": [
    "hit_addr_hawkeye.mean()"
   ]
  },
  {
   "cell_type": "code",
   "execution_count": 113,
   "metadata": {},
   "outputs": [
    {
     "data": {
      "text/plain": [
       "0.044300374185247696"
      ]
     },
     "execution_count": 113,
     "metadata": {},
     "output_type": "execute_result"
    }
   ],
   "source": [
    "hit_addr_lru.mean()"
   ]
  },
  {
   "cell_type": "code",
   "execution_count": 114,
   "metadata": {},
   "outputs": [
    {
     "data": {
      "text/plain": [
       "0.04122376373449153"
      ]
     },
     "execution_count": 114,
     "metadata": {},
     "output_type": "execute_result"
    }
   ],
   "source": [
    "hit_addr_rand.mean()"
   ]
  },
  {
   "cell_type": "code",
   "execution_count": 118,
   "metadata": {
    "colab": {
     "base_uri": "https://localhost:8080/",
     "height": 523
    },
    "id": "onNgnLwxeUL7",
    "outputId": "e0992cf0-9a42-4c9d-ff49-d7b395ab7d6f"
   },
   "outputs": [
    {
     "data": {
      "text/plain": [
       "Text(0, 0.5, 'Mean Hit Rate')"
      ]
     },
     "execution_count": 118,
     "metadata": {},
     "output_type": "execute_result"
    },
    {
     "data": {
      "image/png": "[encoded data removed]",
      "text/plain": [
       "<Figure size 1152x576 with 1 Axes>"
      ]
     },
     "metadata": {},
     "output_type": "display_data"
    }
   ],
   "source": [
    "plt.figure(figsize=(16,8))\n",
    "plt.scatter(freq_addr_hawkeye,hit_addr_hawkeye,c='tab:blue')\n",
    "plt.scatter(freq_addr_lru,hit_addr_lru, c='tab:orange')\n",
    "plt.scatter(freq_addr_rand,hit_addr_rand, c='tab:green')\n",
    "\n",
    "plt.xlabel('Memory Addresses Frequency',fontsize=15)\n",
    "plt.yticks(fontsize=12)\n",
    "plt.xticks(fontsize=12)\n",
    "plt.ylabel('Mean Hit Rate',fontsize=15)\n"
   ]
  },
  {
   "cell_type": "code",
   "execution_count": 116,
   "metadata": {
    "colab": {
     "base_uri": "https://localhost:8080/",
     "height": 523
    },
    "id": "bjGf9Xxmi-U6",
    "outputId": "2a31358f-3e7e-4c4a-8b30-a6e7f71abc6b"
   },
   "outputs": [
    {
     "data": {
      "text/plain": [
       "Text(0, 0.5, 'Mean Hit Rate')"
      ]
     },
     "execution_count": 116,
     "metadata": {},
     "output_type": "execute_result"
    },
    {
     "data": {
      "image/png": "[encoded data removed]",
      "text/plain": [
       "<Figure size 1152x576 with 1 Axes>"
      ]
     },
     "metadata": {},
     "output_type": "display_data"
    }
   ],
   "source": [
    "plt.figure(figsize=(16,8))\n",
    "plt.scatter(np.log10(freq_pc_hawkeye),hit_pc_hawkeye)\n",
    "plt.scatter(np.log10(freq_pc_lru),hit_pc_lru)\n",
    "plt.scatter(np.log10(freq_pc_rand),hit_pc_rand)\n",
    "\n",
    "plt.xlabel('Program Counter Frequency (Log Scale)',fontsize=15)\n",
    "plt.yticks(fontsize=12)\n",
    "plt.xticks(fontsize=12)\n",
    "plt.ylabel('Mean Hit Rate',fontsize=15)\n",
    "# plt.legend(['',''])"
   ]
  },
  {
   "cell_type": "code",
   "execution_count": null,
   "metadata": {},
   "outputs": [],
   "source": []
  }
 ],
 "metadata": {
  "colab": {
   "collapsed_sections": [],
   "name": "Correlation_Check.ipynb",
   "provenance": []
  },
  "kernelspec": {
   "display_name": "Python 3",
   "language": "python",
   "name": "python3"
  },
  "language_info": {
   "codemirror_mode": {
    "name": "ipython",
    "version": 3
   },
   "file_extension": ".py",
   "mimetype": "text/x-python",
   "name": "python",
   "nbconvert_exporter": "python",
   "pygments_lexer": "ipython3",
   "version": "3.6.9"
  }
 },
 "nbformat": 4,
 "nbformat_minor": 1
}
