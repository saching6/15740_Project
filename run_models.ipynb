{
 "cells": [
  {
   "cell_type": "markdown",
   "metadata": {},
   "source": [
    "# This code implements the training pipeline for various models"
   ]
  },
  {
   "cell_type": "code",
   "execution_count": null,
   "metadata": {},
   "outputs": [],
   "source": [
    "import torch\n",
    "import torch.nn as nn\n",
    "from torch.optim import Adam\n",
    "from dataformatter import *\n",
    "from models import *\n",
    "import matplotlib.pyplot as plt\n",
    "import os\n",
    "import pdb\n",
    "import random\n",
    "from collections import defaultdict"
   ]
  },
  {
   "cell_type": "code",
   "execution_count": 2,
   "metadata": {},
   "outputs": [],
   "source": [
    "def set_random_seed(seed):\n",
    "\t# Esp important for ensuring deterministic behavior with CNNs\n",
    "\ttorch.backends.cudnn.deterministic = True\n",
    "\tnp.random.seed(seed)\n",
    "\trandom.seed(seed)\n",
    "\ttorch.manual_seed(seed)\n",
    "\tcuda_available = torch.cuda.is_available()\n",
    "\tif cuda_available:\n",
    "\t\ttorch.cuda.manual_seed_all(seed)\n",
    "\treturn cuda_available"
   ]
  },
  {
   "cell_type": "code",
   "execution_count": 3,
   "metadata": {},
   "outputs": [],
   "source": [
    "# Listing all the hyper-parameters that need to be set here\n",
    "BATCH_SZ = 32\n",
    "MODEL_TYPE = 'TRANSFORMER' # OPTIONS ARE : [FC, TRANSFORMER, LSTM]\n",
    "LR = 5e-4\n",
    "DATA_PATH = 'hawkeye_trace_belady_graph.csv' # This is the CSV FILE WE ARE TRYING TO ANALYZE\n",
    "EVAL_DATA_PATH = 'hawkeye_trace_belady_xalancmbk_10M.csv' # This is the CSV FILE WE ARE TRYING TO ANALYZE\n",
    "SAVE_FLDR = 'results'\n",
    "N_EPOCHS = 5\n",
    "MODEL_DESC='{} MODEL'.format(MODEL_TYPE)\n",
    "MAX_GRAD_NORM = 0.1\n",
    "SET_WISE = True\n",
    "RANDOM_SEED = 1"
   ]
  },
  {
   "cell_type": "code",
   "execution_count": 4,
   "metadata": {},
   "outputs": [],
   "source": [
    "def run_epoch(model, optimizer, data_iterator, mode='train', eval_frac=-1):\n",
    "    model.train()\n",
    "    if mode == 'val':\n",
    "        model.eval()\n",
    "    stats = []\n",
    "    max_tr_batch = -1\n",
    "    num_egs, batch_idx, n_ones = 0, 1, 0\n",
    "    for batch in data_iterator:\n",
    "        # we get the loss from passing the batch to the model\n",
    "        # each model will have it's own way of deadling with the data [we can jointly figure this out]\n",
    "        if eval_frac > 0:\n",
    "            batch, num_batches = batch\n",
    "            max_tr_batch = int(eval_frac * num_batches)\n",
    "            n_ones = (np.array(batch)[:, -1]).sum()\n",
    "        loss, acc, bsz = model(batch)\n",
    "        stats.append([loss.item(), acc.item(), bsz, n_ones, len(batch)])\n",
    "        if mode == 'train' and ((batch_idx < max_tr_batch) or (max_tr_batch < 0)):\n",
    "            optimizer.zero_grad()\n",
    "            loss.backward()\n",
    "            nn.utils.clip_grad_norm_(model.parameters(), MAX_GRAD_NORM)\n",
    "            optimizer.step()\n",
    "        batch_idx += 1\n",
    "    stats = np.array(stats)\n",
    "    avg_loss = np.mean(stats[:, 0])\n",
    "    avg_acc = (stats[:, 1]).sum() / (stats[:, 2].sum() * 1.0)\n",
    "    return (avg_loss, avg_acc), stats[max_tr_batch:, :]"
   ]
  },
  {
   "cell_type": "code",
   "execution_count": 5,
   "metadata": {},
   "outputs": [],
   "source": [
    "def trainer(model, optimizer, dataset, num_epochs=20, desc='Description of model', eval_frac=0.8, shuffle=True):\n",
    "    # Todo [all]\n",
    "    # Figure out how to split the data into a train-val-test regime\n",
    "    stats = []\n",
    "    for epoch_ in range(num_epochs):\n",
    "        # get a data iterator for this epoch\n",
    "        data_iter = get_batch_iterator(dataset, BATCH_SZ, shuffle=shuffle, batch_info=True)\n",
    "        epoch_stats, e_stats = run_epoch(model, optimizer, data_iter, mode='train', eval_frac=eval_frac)\n",
    "        stats.append(epoch_stats)\n",
    "        print('Epoch {} : Avrg Loss = {}, Avrg Acc = {} '.format(epoch_, stats[-1][0], stats[-1][1]))\n",
    "        major_acc = (e_stats[:, 3].sum()) / (1.0 * e_stats[:, 4].sum())\n",
    "        major_acc = max(major_acc, 1.0 - major_acc)\n",
    "        print('Epoch {} : Eval Loss = {}, Eval Acc = {}, Eval Majority Acc = {}'.format(epoch_, (e_stats[:, 0]).mean(), (e_stats[:, 1].sum())/(1.0 * e_stats[:, 2].sum()), major_acc))\n",
    "        print('-'*50)\n",
    "\n",
    "    stats = np.array(stats)\n",
    "#     graph_results(stats, desc)\n",
    "    return model\n",
    "\n",
    "def set_wise_trainer(model, optimizer, setwise_dataset, num_epochs=20, desc='Set-Wise Model', shuffle=False):\n",
    "    model.train()\n",
    "    stats = defaultdict(list)\n",
    "    for epoch_ in range(num_epochs):\n",
    "        # get a data iterator for this epoch\n",
    "        accs = []\n",
    "        for set_id, dataset in setwise_dataset.items():\n",
    "            model.remap_embedders(dataset, set_id)\n",
    "            data_iter = get_batch_iterator(dataset, BATCH_SZ, shuffle=shuffle)\n",
    "            this_stats, _ = run_epoch(model, optimizer, data_iter, mode='train')\n",
    "            stats[set_id].append(this_stats)\n",
    "            accs.append(this_stats[-1])\n",
    "        acc_stats = np.min(accs), np.mean(accs), np.median(accs), np.max(accs)\n",
    "        print('Min Acc {} | Mean Acc : {} | Median Acc {} | Max Acc {} '.format(*acc_stats))\n",
    "    return model, stats\n",
    "\n",
    "def evaluate(model, dataset, epoch_=-1, print_res=True, shuffle=False):\n",
    "    # get a data iterator for this epoch\n",
    "    model.eval()\n",
    "    data_iter = get_batch_iterator(dataset, BATCH_SZ, shuffle=shuffle, batch_info=False)\n",
    "    epoch_stats, _ = run_epoch(model, None, data_iter, mode='test')\n",
    "    if print_res:\n",
    "        print('Epoch {} : Avg Loss = {} Avg Acc = {}'.format(epoch_, epoch_stats[0], epoch_stats[1]))\n",
    "    return epoch_stats"
   ]
  },
  {
   "cell_type": "code",
   "execution_count": 6,
   "metadata": {},
   "outputs": [
    {
     "name": "stdout",
     "output_type": "stream",
     "text": [
      "{'Program Counter': 0, 'Set': 1, 'Cache Friendly': 2} True\n",
      "This is the average accuracy :  0.6780056315594869  From predicting all zeros\n"
     ]
    }
   ],
   "source": [
    "if not os.path.exists(SAVE_FLDR):\n",
    "    os.makedirs(SAVE_FLDR)\n",
    "\n",
    "set_random_seed(RANDOM_SEED)\n",
    "model = get_model(MODEL_TYPE)\n",
    "chosen_columns = model.get_data_columns()\n",
    "train_dataset = csv_to_data(DATA_PATH, chosen_columns)\n",
    "average_pred = np.mean(train_dataset[:, -1])\n",
    "if torch.cuda.is_available():\n",
    "    model.cuda()\n",
    "model.use_cuda = torch.cuda.is_available()\n",
    "eval_dataset = csv_to_data(EVAL_DATA_PATH, chosen_columns)\n",
    "print(model.feat_idx_map, torch.cuda.is_available())\n",
    "print('This is the average accuracy : ', 1.0 - average_pred, ' From predicting all zeros')"
   ]
  },
  {
   "cell_type": "code",
   "execution_count": 7,
   "metadata": {},
   "outputs": [
    {
     "name": "stdout",
     "output_type": "stream",
     "text": [
      "Logging Pre-Training Performance\n",
      "Average Stats Before Training : Loss 0.8954129431644109, Acc 0.09677514648437531, Major Acc 0.9166991735969036\n",
      "Min Acc 0.29 | Mean Acc : 0.7032112630208334 | Median Acc 0.71 | Max Acc 0.98 \n",
      "Epoch 0 [Eval] : Loss 0.3445139470687927, Acc 0.8593190104166659, Major Acc 0.9166991735969036\n",
      "Min Acc 0.34 | Mean Acc : 0.7124527994791667 | Median Acc 0.72 | Max Acc 0.96 \n",
      "Epoch 1 [Eval] : Loss 0.3512669692894027, Acc 0.8604295712425587, Major Acc 0.9166991735969036\n",
      "Min Acc 0.34 | Mean Acc : 0.7139265950520834 | Median Acc 0.72 | Max Acc 0.95 \n",
      "Epoch 2 [Eval] : Loss 0.3834917007178206, Acc 0.8395654761904751, Major Acc 0.9166991735969036\n",
      "Min Acc 0.25 | Mean Acc : 0.7149039713541666 | Median Acc 0.72 | Max Acc 0.96 \n",
      "Epoch 3 [Eval] : Loss 0.35830811314048144, Acc 0.8328450985863091, Major Acc 0.9166991735969036\n",
      "Min Acc 0.32 | Mean Acc : 0.7167366536458334 | Median Acc 0.72 | Max Acc 1.0 \n",
      "Epoch 4 [Eval] : Loss 0.3455853387238762, Acc 0.8480164271763385, Major Acc 0.9166991735969036\n"
     ]
    }
   ],
   "source": [
    "if not SET_WISE:\n",
    "    optimizer = Adam(model.parameters(), lr=LR)\n",
    "    model.prep_for_data(train_dataset, temp_order=True)\n",
    "    model = trainer(model, optimizer, train_dataset, num_epochs=N_EPOCHS, desc=MODEL_DESC, shuffle=False)\n",
    "else:\n",
    "    train_setwise_dataset = group_by_set(train_dataset)\n",
    "    eval_setwise_dataset = group_by_set(eval_dataset)\n",
    "    train_keys, val_keys = list(train_setwise_dataset.keys()), list(eval_setwise_dataset.keys())\n",
    "\n",
    "    vals = [len(x) for x in list(train_setwise_dataset.values())]\n",
    "    max_key = train_keys[np.argmax(vals)]\n",
    "    # Logging-pre-training performance\n",
    "    model.prep_for_data(train_setwise_dataset[max_key], temp_order=True)\n",
    "    for set_id, this_dataset in train_setwise_dataset.items():\n",
    "        model.remap_embedders(this_dataset, set_id)\n",
    "\n",
    "    print('Logging Pre-Training Performance')\n",
    "    MAX_TR_KEY = max([int(x) for x in train_setwise_dataset.keys()]) + 1\n",
    "    all_stats = []\n",
    "    for id_, (set_id, this_dataset) in enumerate(eval_setwise_dataset.items()):\n",
    "        set_id = MAX_TR_KEY + int(set_id)\n",
    "        model.remap_embedders(this_dataset, set_id)\n",
    "        result = evaluate(model, this_dataset, print_res=False)\n",
    "        average_pred = np.mean(this_dataset[:, -1])\n",
    "        all_stats.append([*result, 1.0 - average_pred])\n",
    "    av_res = np.mean(all_stats, axis=0)\n",
    "    print('Average Stats Before Training : Loss {}, Acc {}, Major Acc {}'.format(*av_res))\n",
    "    optimizer = Adam(model.parameters(), lr=LR) # Now we can add all the model parameters to the optimizer\n",
    "    for i in range(N_EPOCHS):\n",
    "        model, stats = set_wise_trainer(model, optimizer, train_setwise_dataset, num_epochs=1)\n",
    "        all_stats = []\n",
    "        for id_, (set_id, this_dataset) in enumerate(eval_setwise_dataset.items()):\n",
    "            set_id = MAX_TR_KEY + int(set_id)\n",
    "            model.remap_embedders(this_dataset, set_id)\n",
    "            result = evaluate(model, this_dataset, print_res=False)\n",
    "            average_pred = np.mean(this_dataset[:, -1])\n",
    "            all_stats.append([*result, 1.0 - average_pred])\n",
    "        av_res = np.mean(all_stats, axis=0)\n",
    "        print('Epoch {} [Eval] : Loss {}, Acc {}, Major Acc {}'.format(i, *av_res))"
   ]
  },
  {
   "cell_type": "code",
   "execution_count": null,
   "metadata": {},
   "outputs": [],
   "source": [
    "torch.save(model.state_dict(), 'saved_model.pth')"
   ]
  },
  {
   "cell_type": "code",
   "execution_count": null,
   "metadata": {},
   "outputs": [],
   "source": [
    "chosen_columns = ['Program Counter', 'Physical Address', 'Set', 'Cache Friendly']\n",
    "dataset = csv_to_data(DATA_PATH, chosen_columns)\n",
    "pcs = dataset[:, 0]\n",
    "dict_ = defaultdict(int)\n",
    "for id_ in pcs:\n",
    "    dict_[id_] += 1\n",
    "values = np.array(list(dict_.values()))\n",
    "bc = np.bincount(values)\n",
    "print(len(values), dataset.shape, values.mean(), values.max(), values.min(), np.median(values))\n",
    "print(bc)"
   ]
  }
 ],
 "metadata": {
  "kernelspec": {
   "display_name": "Python 3",
   "language": "python",
   "name": "python3"
  },
  "language_info": {
   "codemirror_mode": {
    "name": "ipython",
    "version": 3
   },
   "file_extension": ".py",
   "mimetype": "text/x-python",
   "name": "python",
   "nbconvert_exporter": "python",
   "pygments_lexer": "ipython3",
   "version": "3.6.10"
  }
 },
 "nbformat": 4,
 "nbformat_minor": 4
}
