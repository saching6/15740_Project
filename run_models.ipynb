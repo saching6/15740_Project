{
 "cells": [
  {
   "cell_type": "markdown",
   "metadata": {},
   "source": [
    "# This code implements the training pipeline for various models"
   ]
  },
  {
   "cell_type": "code",
   "execution_count": 1,
   "metadata": {},
   "outputs": [],
   "source": [
    "import torch\n",
    "import torch.nn as nn\n",
    "from torch.optim import Adam\n",
    "from dataformatter import *\n",
    "from models import *\n",
    "import matplotlib.pyplot as plt\n",
    "import os\n",
    "import pdb"
   ]
  },
  {
   "cell_type": "code",
   "execution_count": 2,
   "metadata": {},
   "outputs": [],
   "source": [
    "# Listing all the hyper-parameters that need to be set here\n",
    "BATCH_SZ = 32\n",
    "MODEL_TYPE = 'FC' # OPTIONS ARE : [FC, TRANSFORMER, LSTM]\n",
    "LR = 1e-3\n",
    "DATA_PATH = 'hawkeye_trace_belady_graph.csv' # This is the CSV FILE WE ARE TRYING TO ANALYZE\n",
    "SAVE_FLDR = 'results'\n",
    "N_EPOCHS = 10"
   ]
  },
  {
   "cell_type": "code",
   "execution_count": 3,
   "metadata": {},
   "outputs": [],
   "source": [
    "def run_epoch(model, optimizer, data_iterator, mode='train'):\n",
    "    model.train()\n",
    "    if mode == 'val':\n",
    "        model.eval()\n",
    "    stats = []\n",
    "    num_egs = 0\n",
    "    for batch in data_iterator:\n",
    "        # we get the loss from passing the batch to the model\n",
    "        # each model will have it's own way of deadling with the data [we can jointly figure this out]\n",
    "        loss, acc = model(batch)\n",
    "        stats.append([loss.item(), acc.item()])\n",
    "        num_egs += len(batch)\n",
    "        if mode == 'train':\n",
    "            optimizer.zero_grad()\n",
    "            loss.backward()\n",
    "            optimizer.step()\n",
    "    stats = np.array(stats)\n",
    "    avg_loss = np.mean(stats[:, 0])\n",
    "    avg_acc = (stats[:, 1]).sum() / num_egs\n",
    "    return avg_loss, avg_acc"
   ]
  },
  {
   "cell_type": "code",
   "execution_count": 4,
   "metadata": {},
   "outputs": [],
   "source": [
    "def graph_results(data, desc):\n",
    "    plt.title(desc)\n",
    "    plt.plot(range(len(data)), data[:, 0], color='tab:red', label='Loss')\n",
    "    plt.plot(range(len(data)), data[:, 1], color='tab:blue', label='Accuracy')\n",
    "    plt.legend()\n",
    "    plt.savefig(\"{}/{}.png\".format(SAVE_FLDR, desc.replace(' ', '_')))\n",
    "    plt.show()"
   ]
  },
  {
   "cell_type": "code",
   "execution_count": 5,
   "metadata": {},
   "outputs": [],
   "source": [
    "def trainer(model, optimizer, dataset, num_epochs=20, desc='Description of model'):\n",
    "    # Todo [all]\n",
    "    # Figure out how to split the data into a train-val-test regime\n",
    "    stats = []\n",
    "    for epoch_ in range(num_epochs):\n",
    "        # get a data iterator for this epoch\n",
    "        data_iter = get_batch_iterator(dataset, BATCH_SZ)\n",
    "        epoch_stats = run_epoch(model, optimizer, data_iter, mode='train')\n",
    "        # Todo[all] would normally run the validation set at this point\n",
    "        stats.append(epoch_stats)\n",
    "        print('Epoch {} : Avg Loss = {} Avg Acc = {}'.format(epoch_, stats[-1][0], stats[-1][1]))\n",
    "    stats = np.array(stats)\n",
    "    graph_results(stats, desc)\n",
    "    return model"
   ]
  },
  {
   "cell_type": "code",
   "execution_count": 6,
   "metadata": {},
   "outputs": [],
   "source": [
    "if not os.path.exists(SAVE_FLDR):\n",
    "    os.makedirs(SAVE_FLDR)\n",
    "\n",
    "model = get_model(MODEL_TYPE)\n",
    "optimizer = Adam(model.parameters(), lr=LR)\n",
    "chosen_columns = model.get_data_columns()\n",
    "dataset = csv_to_data(DATA_PATH, chosen_columns)\n",
    "model.prep_for_data(dataset)"
   ]
  },
  {
   "cell_type": "code",
   "execution_count": null,
   "metadata": {},
   "outputs": [
    {
     "name": "stdout",
     "output_type": "stream",
     "text": [
      "This is the average accuracy :  0.7159665140267546  From predicting all zeros\n",
      "Epoch 0 : Avg Loss = 0.4827304410259918 Avg Acc = 0.7752484071601942\n",
      "Epoch 1 : Avg Loss = 0.45567828329117266 Avg Acc = 0.7921344053398058\n",
      "Epoch 2 : Avg Loss = 0.44966155283370063 Avg Acc = 0.7952726790048543\n",
      "Epoch 3 : Avg Loss = 0.44766351057994136 Avg Acc = 0.7970266990291263\n",
      "Epoch 4 : Avg Loss = 0.4459769453500732 Avg Acc = 0.7962682038834952\n"
     ]
    }
   ],
   "source": [
    "average_pred = np.mean(dataset[:, -1])\n",
    "print('This is the average accuracy : ', 1.0 - average_pred, ' From predicting all zeros')\n",
    "model = trainer(model, optimizer, dataset, num_epochs=N_EPOCHS, desc='Basic MLP Model')"
   ]
  },
  {
   "cell_type": "code",
   "execution_count": null,
   "metadata": {},
   "outputs": [],
   "source": []
  }
 ],
 "metadata": {
  "kernelspec": {
   "display_name": "Python 3",
   "language": "python",
   "name": "python3"
  },
  "language_info": {
   "codemirror_mode": {
    "name": "ipython",
    "version": 3
   },
   "file_extension": ".py",
   "mimetype": "text/x-python",
   "name": "python",
   "nbconvert_exporter": "python",
   "pygments_lexer": "ipython3",
   "version": "3.6.10"
  }
 },
 "nbformat": 4,
 "nbformat_minor": 4
}
