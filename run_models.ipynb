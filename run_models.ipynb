{
 "cells": [
  {
   "cell_type": "markdown",
   "metadata": {},
   "source": [
    "# This code implements the training pipeline for various models"
   ]
  },
  {
   "cell_type": "code",
   "execution_count": 1,
   "metadata": {},
   "outputs": [],
   "source": [
    "import torch\n",
    "import torch.nn as nn\n",
    "from torch.optim import Adam\n",
    "from dataformatter import *\n",
    "from models import *\n",
    "import matplotlib.pyplot as plt\n",
    "import os\n",
    "import pdb"
   ]
  },
  {
   "cell_type": "code",
   "execution_count": 2,
   "metadata": {},
   "outputs": [],
   "source": [
    "# Listing all the hyper-parameters that need to be set here\n",
    "BATCH_SZ = 32\n",
    "MODEL_TYPE = 'FC' # OPTIONS ARE : [FC, TRANSFORMER, LSTM]\n",
    "LR = 1e-3\n",
    "DATA_PATH = 'hawkeye_trace_belady_graph.csv' # This is the CSV FILE WE ARE TRYING TO ANALYZE\n",
    "SAVE_FLDR = 'results'\n",
    "N_EPOCHS = 20"
   ]
  },
  {
   "cell_type": "code",
   "execution_count": 9,
   "metadata": {},
   "outputs": [],
   "source": [
    "def run_epoch(model, optimizer, data_iterator, mode='train'):\n",
    "    model.train()\n",
    "    if mode == 'val':\n",
    "        model.eval()\n",
    "    stats = []\n",
    "    num_egs = 0\n",
    "    for batch in data_iterator:\n",
    "        # we get the loss from passing the batch to the model\n",
    "        # each model will have it's own way of deadling with the data [we can jointly figure this out]\n",
    "        loss, acc = model(batch)\n",
    "        stats.append([loss.item(), acc.item()])\n",
    "        num_egs += len(batch)\n",
    "        if mode == 'train':\n",
    "            optimizer.zero_grad()\n",
    "            loss.backward()\n",
    "            optimizer.step()\n",
    "    stats = np.array(stats)\n",
    "    avg_loss = np.mean(stats[:, 0])\n",
    "    avg_acc = (stats[:, 1]).sum() / num_egs\n",
    "    return avg_loss, avg_acc"
   ]
  },
  {
   "cell_type": "code",
   "execution_count": 10,
   "metadata": {},
   "outputs": [],
   "source": [
    "def graph_results(data, desc):\n",
    "    plt.title(desc)\n",
    "    plt.plot(range(len(data)), data[:, 0], color='tab:red', label='Loss')\n",
    "    plt.plot(range(len(data)), data[:, 0], color='tab:blue', label='Accuracy')\n",
    "    plt.legend()\n",
    "    plt.savefig(\"{}/{}.png\".format(SAVE_FLDR, desc.replace(' ', '_')))\n",
    "    plt.show()"
   ]
  },
  {
   "cell_type": "code",
   "execution_count": 11,
   "metadata": {},
   "outputs": [],
   "source": [
    "def trainer(model, optimizer, dataset, num_epochs=20, desc='Description of model'):\n",
    "    # Todo [all]\n",
    "    # Figure out how to split the data into a train-val-test regime\n",
    "    stats = []\n",
    "    for epoch_ in range(num_epochs):\n",
    "        # get a data iterator for this epoch\n",
    "        data_iter = get_batch_iterator(dataset, BATCH_SZ)\n",
    "        epoch_stats = run_epoch(model, optimizer, data_iter, mode='train')\n",
    "        # Todo[all] would normally run the validation set at this point\n",
    "        stats.append(epoch_stats)\n",
    "        print('Epoch {} : Avg Loss = {} Avg Acc = {}'.format(epoch_, stats[-1][0], stats[-1][1]))\n",
    "    graph_results(stats, desc)\n",
    "    return model"
   ]
  },
  {
   "cell_type": "code",
   "execution_count": 12,
   "metadata": {},
   "outputs": [],
   "source": [
    "if not os.path.exists(SAVE_FLDR):\n",
    "    os.makedirs(SAVE_FLDR)\n",
    "\n",
    "model = get_model(MODEL_TYPE)\n",
    "optimizer = Adam(model.parameters(), lr=LR)\n",
    "dataset = csv_to_data(DATA_PATH)\n",
    "model.prep_for_data(dataset)"
   ]
  },
  {
   "cell_type": "code",
   "execution_count": null,
   "metadata": {},
   "outputs": [
    {
     "name": "stdout",
     "output_type": "stream",
     "text": [
      "Epoch 0 : Avg Loss = 0.459167616681458 Avg Acc = 0.7916034587378641\n",
      "Epoch 1 : Avg Loss = 0.4445128824778842 Avg Acc = 0.798145479368932\n",
      "Epoch 2 : Avg Loss = 0.44166642240275744 Avg Acc = 0.7988470873786407\n",
      "Epoch 3 : Avg Loss = 0.4408452345546588 Avg Acc = 0.7988186438106796\n",
      "Epoch 4 : Avg Loss = 0.44012854680039204 Avg Acc = 0.8001744538834952\n",
      "Epoch 5 : Avg Loss = 0.4394956774132561 Avg Acc = 0.799463364684466\n"
     ]
    }
   ],
   "source": [
    "model = trainer(model, optimizer, dataset, N_EPOCHS)"
   ]
  },
  {
   "cell_type": "code",
   "execution_count": null,
   "metadata": {},
   "outputs": [],
   "source": []
  }
 ],
 "metadata": {
  "kernelspec": {
   "display_name": "Python 3",
   "language": "python",
   "name": "python3"
  },
  "language_info": {
   "codemirror_mode": {
    "name": "ipython",
    "version": 3
   },
   "file_extension": ".py",
   "mimetype": "text/x-python",
   "name": "python",
   "nbconvert_exporter": "python",
   "pygments_lexer": "ipython3",
   "version": "3.6.10"
  }
 },
 "nbformat": 4,
 "nbformat_minor": 4
}
